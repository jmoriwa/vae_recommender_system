{
  "nbformat": 4,
  "nbformat_minor": 0,
  "metadata": {
    "colab": {
      "provenance": [],
      "machine_shape": "hm",
      "gpuType": "L4",
      "authorship_tag": "ABX9TyMTTWomUH+AdW07gGBh79FC",
      "include_colab_link": true
    },
    "kernelspec": {
      "name": "python3",
      "display_name": "Python 3"
    },
    "language_info": {
      "name": "python"
    },
    "accelerator": "GPU"
  },
  "cells": [
    {
      "cell_type": "markdown",
      "metadata": {
        "id": "view-in-github",
        "colab_type": "text"
      },
      "source": [
        "<a href=\"https://colab.research.google.com/github/jmoriwa/vae_recommender_system/blob/main/vae_recommender_system.ipynb\" target=\"_parent\"><img src=\"https://colab.research.google.com/assets/colab-badge.svg\" alt=\"Open In Colab\"/></a>"
      ]
    },
    {
      "cell_type": "code",
      "execution_count": 11,
      "metadata": {
        "id": "Yn3WIg4oNGSg"
      },
      "outputs": [],
      "source": [
        "import pandas as pd\n",
        "import numpy as np\n",
        "import random\n",
        "import pickle\n",
        "from scipy import sparse"
      ]
    },
    {
      "cell_type": "markdown",
      "source": [
        "### Load and Read Data"
      ],
      "metadata": {
        "id": "bneHndpeNi-1"
      }
    },
    {
      "cell_type": "code",
      "source": [
        "from google.colab import drive\n",
        "drive.mount('/content/drive')"
      ],
      "metadata": {
        "colab": {
          "base_uri": "https://localhost:8080/"
        },
        "id": "y4JcDzMDNp_d",
        "outputId": "05f97148-dd4e-41f5-9466-6c8fdc80b316"
      },
      "execution_count": 12,
      "outputs": [
        {
          "output_type": "stream",
          "name": "stdout",
          "text": [
            "Drive already mounted at /content/drive; to attempt to forcibly remount, call drive.mount(\"/content/drive\", force_remount=True).\n"
          ]
        }
      ]
    },
    {
      "cell_type": "code",
      "source": [
        "ratings_path = \"/content/drive/MyDrive/archive/rating.csv\"\n",
        "movies_path = \"/content/drive/MyDrive/archive/movie.csv\""
      ],
      "metadata": {
        "id": "ReCG0OZUN5eM"
      },
      "execution_count": 14,
      "outputs": []
    },
    {
      "cell_type": "code",
      "source": [
        "raw_data = pd.read_csv(ratings_path)"
      ],
      "metadata": {
        "id": "n4Shah-fOROs"
      },
      "execution_count": 15,
      "outputs": []
    },
    {
      "cell_type": "code",
      "source": [
        "unique_user_ids = raw_data.userId.unique()"
      ],
      "metadata": {
        "id": "syINAI6JO38a"
      },
      "execution_count": 16,
      "outputs": []
    },
    {
      "cell_type": "code",
      "source": [
        "np.random.seed(1)\n",
        "np.random.shuffle(unique_user_ids) # to ensure random splitting between train, val and test\n",
        "unique_movie_ids = raw_data.movieId.unique()"
      ],
      "metadata": {
        "id": "83iK1F0_O-vo"
      },
      "execution_count": 17,
      "outputs": []
    },
    {
      "cell_type": "code",
      "source": [
        "number_of_users = len(unique_user_ids)\n",
        "print(\"total number of users: \", number_of_users)\n",
        "\n",
        "number_of_movies = len(unique_movie_ids)\n",
        "print(\"total number of movies: \", number_of_movies)"
      ],
      "metadata": {
        "colab": {
          "base_uri": "https://localhost:8080/"
        },
        "id": "7ebsGRzbPDLb",
        "outputId": "36c2b497-679a-4f51-fe76-c6ec32aeec38"
      },
      "execution_count": 18,
      "outputs": [
        {
          "output_type": "stream",
          "name": "stdout",
          "text": [
            "total number of users:  138493\n",
            "total number of movies:  26744\n"
          ]
        }
      ]
    },
    {
      "cell_type": "markdown",
      "source": [
        "## Split users into training,test and validation"
      ],
      "metadata": {
        "id": "jhgSKwsVPKQ3"
      }
    },
    {
      "cell_type": "code",
      "source": [
        "val_user_ids = []\n",
        "test_user_ids = []\n",
        "train_user_ids = []\n",
        "\n",
        "for i in range(10000):\n",
        "    val_user_ids.append(unique_user_ids[i]) # first 10k after shuffling keys\n",
        "\n",
        "for i in range(10000, 20000):\n",
        "    test_user_ids.append(unique_user_ids[i]) # next 10k after shuffling keys\n",
        "\n",
        "for i in range(20000, number_of_users): # all the remaining form training data\n",
        "    train_user_ids.append(unique_user_ids[i])"
      ],
      "metadata": {
        "id": "T--dhD0gPPv3"
      },
      "execution_count": 19,
      "outputs": []
    },
    {
      "cell_type": "markdown",
      "source": [
        "## Create an Sparse matrix for traing,test and validation set for interaction"
      ],
      "metadata": {
        "id": "HKPp9w4ERWNg"
      }
    },
    {
      "cell_type": "code",
      "source": [
        "# creating a movieId and userId to index dictionary for creating train_data ndarray\n",
        "movie2id = {mid: i for i, mid in enumerate(unique_movie_ids)}\n",
        "\n",
        "user2id = {uid: i for i, uid in enumerate(train_user_ids)}\n",
        "test_user2id = {uid: i for i, uid in enumerate(test_user_ids)}\n",
        "val_user2id = {uid: i for i, uid in enumerate(val_user_ids)}\n"
      ],
      "metadata": {
        "id": "8lDMqgvDRais"
      },
      "execution_count": 22,
      "outputs": []
    },
    {
      "cell_type": "code",
      "source": [
        "# Pre-filter and group data once\n",
        "filtered_data = raw_data[raw_data.rating > 3.5]\n",
        "grouped_data = filtered_data.groupby('userId')['movieId'].apply(list).to_dict()"
      ],
      "metadata": {
        "id": "foqX6AbQcC6B"
      },
      "execution_count": 23,
      "outputs": []
    },
    {
      "cell_type": "code",
      "source": [
        "def create_sparse_matrix(user_ids, user2id_map, filename):\n",
        "    rows = []\n",
        "    cols = []\n",
        "\n",
        "    for u_id in user_ids:\n",
        "        movie_ids = grouped_data.get(u_id, [])\n",
        "        movie_indexes = [movie2id[m] for m in movie_ids if m in movie2id]\n",
        "        rows.extend([user2id_map[u_id]] * len(movie_indexes))\n",
        "        cols.extend(movie_indexes)\n",
        "\n",
        "    data = sparse.csr_matrix(\n",
        "        (np.ones_like(rows), (np.array(rows), np.array(cols))),\n",
        "        dtype='float64',\n",
        "        shape=(len(user_ids), len(movie2id))\n",
        "    )\n",
        "\n",
        "    pickle.dump(data, open(filename, \"wb\"))\n",
        "    print(f\"{filename} created with {len(user_ids)} users.\")"
      ],
      "metadata": {
        "id": "xRNFtSt_cPnv"
      },
      "execution_count": 24,
      "outputs": []
    },
    {
      "cell_type": "code",
      "source": [
        "# Create datasets\n",
        "create_sparse_matrix(train_user_ids, user2id, \"train_data.file\")\n"
      ],
      "metadata": {
        "colab": {
          "base_uri": "https://localhost:8080/"
        },
        "id": "U3qiplKncVeD",
        "outputId": "3dcc4536-50f6-4a6c-e018-346f2643ba2b"
      },
      "execution_count": 25,
      "outputs": [
        {
          "output_type": "stream",
          "name": "stdout",
          "text": [
            "train_data.file created with 118493 users.\n"
          ]
        }
      ]
    },
    {
      "cell_type": "code",
      "source": [
        "create_sparse_matrix(test_user_ids, test_user2id, \"test_data.file\")"
      ],
      "metadata": {
        "colab": {
          "base_uri": "https://localhost:8080/"
        },
        "id": "zEJslXceccp9",
        "outputId": "7f134683-97b5-4ce2-93d4-7e0bc9c3968b"
      },
      "execution_count": 26,
      "outputs": [
        {
          "output_type": "stream",
          "name": "stdout",
          "text": [
            "test_data.file created with 10000 users.\n"
          ]
        }
      ]
    },
    {
      "cell_type": "code",
      "source": [
        "create_sparse_matrix(val_user_ids, val_user2id, \"val_data.file\")"
      ],
      "metadata": {
        "colab": {
          "base_uri": "https://localhost:8080/"
        },
        "id": "NDk5LZyVcjoM",
        "outputId": "47708e07-14fa-426a-d27b-a6791463fb54"
      },
      "execution_count": 27,
      "outputs": [
        {
          "output_type": "stream",
          "name": "stdout",
          "text": [
            "val_data.file created with 10000 users.\n"
          ]
        }
      ]
    },
    {
      "cell_type": "markdown",
      "source": [
        "### VAE Model"
      ],
      "metadata": {
        "id": "vfmukzIjdJBy"
      }
    },
    {
      "cell_type": "code",
      "source": [
        "import numpy as np\n",
        "import pickle\n",
        "import tensorflow as tf\n",
        "from tensorflow.keras.layers import Input, Dense, Lambda\n",
        "from tensorflow.keras.models import Model\n",
        "from tensorflow.keras import backend as K\n",
        "from tensorflow.keras.callbacks import ReduceLROnPlateau, ModelCheckpoint, Callback\n",
        "from tensorflow.keras.losses import binary_crossentropy\n",
        "from scipy import sparse\n",
        "from tqdm import tqdm"
      ],
      "metadata": {
        "id": "ZP0rAFFZdK-i"
      },
      "execution_count": 28,
      "outputs": []
    },
    {
      "cell_type": "code",
      "source": [
        "class LossHistory(Callback):\n",
        "    def on_train_begin(self, logs=None):\n",
        "        self.losses = []\n",
        "        self.val_losses = []\n",
        "\n",
        "    def on_epoch_end(self, epoch, logs=None):\n",
        "        self.losses.append(logs.get('loss'))\n",
        "        self.val_losses.append(logs.get('val_loss'))\n",
        "\n",
        "history = LossHistory()"
      ],
      "metadata": {
        "id": "WI0f52I7dWRa"
      },
      "execution_count": 85,
      "outputs": []
    },
    {
      "cell_type": "code",
      "source": [
        "# Parameters\n",
        "batch_size = 512\n",
        "original_dim = x_train.shape[1]\n",
        "intermediate_dim = 1000\n",
        "latent_dim = 400\n",
        "nb_epochs = 25\n",
        "epsilon_std = 1.0"
      ],
      "metadata": {
        "id": "l6tcA1r2dZdg"
      },
      "execution_count": 99,
      "outputs": []
    },
    {
      "cell_type": "code",
      "source": [
        "# Encoder\n",
        "x_input = Input(shape=(original_dim,))\n",
        "h = Dense(intermediate_dim, activation='tanh')(x_input)\n",
        "z_mean = Dense(latent_dim)(h)\n",
        "z_log_var = Dense(latent_dim)(h)"
      ],
      "metadata": {
        "id": "HB97FknEdf_7"
      },
      "execution_count": 100,
      "outputs": []
    },
    {
      "cell_type": "code",
      "source": [
        "# Sampling function\n",
        "def sampling(args):\n",
        "    z_mean, z_log_var = args\n",
        "    epsilon = K.random_normal(shape=(K.shape(z_mean)[0], latent_dim), mean=0., stddev=epsilon_std)\n",
        "    return z_mean + K.exp(z_log_var / 2) * epsilon\n",
        "\n",
        "z = Lambda(sampling)([z_mean, z_log_var])"
      ],
      "metadata": {
        "id": "8Dh_Is_UdjpU"
      },
      "execution_count": 101,
      "outputs": []
    },
    {
      "cell_type": "code",
      "source": [
        "# Decoder\n",
        "h_decoder = Dense(intermediate_dim, activation='tanh')\n",
        "x_bar = Dense(original_dim, activation='softmax')\n",
        "h_decoded = h_decoder(z)\n",
        "x_decoded = x_bar(h_decoded)\n",
        "\n",
        "# VAE Model\n",
        "vae = Model(x_input, x_decoded)\n"
      ],
      "metadata": {
        "id": "D5eEeM19dq3D"
      },
      "execution_count": 102,
      "outputs": []
    },
    {
      "cell_type": "code",
      "source": [
        "class KLDivergenceLayer(tf.keras.layers.Layer):\n",
        "    def call(self, inputs):\n",
        "        z_mean, z_log_var = inputs\n",
        "        kl_loss = -0.5 * tf.reduce_sum(1 + z_log_var - tf.square(z_mean) - tf.exp(z_log_var), axis=-1)\n",
        "        self.add_loss(tf.reduce_mean(kl_loss))\n",
        "        return inputs\n",
        "\n",
        "# Apply KL divergence custom layer\n",
        "[z_mean, z_log_var] = KLDivergenceLayer()([z_mean, z_log_var])\n",
        "\n",
        "# Compile model\n",
        "def reconstruction_loss(y_true, y_pred):\n",
        "    return original_dim * binary_crossentropy(y_true, y_pred)\n",
        "\n",
        "vae.compile(optimizer='adam', loss=reconstruction_loss)"
      ],
      "metadata": {
        "id": "Dy51INuGdwK2"
      },
      "execution_count": 103,
      "outputs": []
    },
    {
      "cell_type": "code",
      "source": [
        "# Load data\n",
        "x_train = pickle.load(open(\"train_data.file\", \"rb\"))\n",
        "x_val = pickle.load(open(\"val_data.file\", \"rb\"))\n",
        "\n",
        "print(\"Training users:\", x_train.shape[0])\n",
        "print(\"Validation users:\", x_val.shape[0])"
      ],
      "metadata": {
        "colab": {
          "base_uri": "https://localhost:8080/"
        },
        "id": "TRt7Onwfd1Jv",
        "outputId": "61542128-8637-43b9-8263-b345876a9549"
      },
      "execution_count": 104,
      "outputs": [
        {
          "output_type": "stream",
          "name": "stdout",
          "text": [
            "Training users: 118493\n",
            "Validation users: 10000\n"
          ]
        }
      ]
    },
    {
      "cell_type": "code",
      "source": [
        "def nn_batch_generator(x, batch_size):\n",
        "    indices = np.arange(x.shape[0])\n",
        "    while True:\n",
        "        np.random.shuffle(indices)\n",
        "        for start_idx in range(0, len(indices), batch_size):\n",
        "            end_idx = min(start_idx + batch_size, len(indices))\n",
        "            batch_indices = indices[start_idx:end_idx]\n",
        "            x_batch = x[batch_indices].todense()  # Convert sparse to dense\n",
        "            yield np.array(x_batch), np.array(x_batch)"
      ],
      "metadata": {
        "id": "UQAoN3_PeAIo"
      },
      "execution_count": 105,
      "outputs": []
    },
    {
      "cell_type": "code",
      "source": [
        "# Callbacks\n",
        "weights_path = \"./tmp/vae_model.keras\"\n",
        "checkpointer = ModelCheckpoint(filepath=weights_path, verbose=1, save_best_only=True)\n",
        "reduce_lr = ReduceLROnPlateau(monitor='val_loss', factor=0.2, patience=5, min_lr=0.001)\n",
        "\n",
        "# Training\n",
        "steps_per_epoch = x_train.shape[0] // batch_size"
      ],
      "metadata": {
        "id": "1r5CbKpoeDWX"
      },
      "execution_count": 106,
      "outputs": []
    },
    {
      "cell_type": "code",
      "source": [
        "vae.fit(\n",
        "    nn_batch_generator(x_train, batch_size),\n",
        "    steps_per_epoch=steps_per_epoch,\n",
        "    epochs=nb_epochs,\n",
        "    validation_data=(x_val.todense(), x_val.todense()),\n",
        "    callbacks=[checkpointer, reduce_lr, history],\n",
        "    verbose=1\n",
        ")\n",
        "\n",
        "# Losses\n",
        "print(\"Training losses over epochs:\", history.losses)\n",
        "print(\"Validation losses over epochs:\", history.val_losses)"
      ],
      "metadata": {
        "colab": {
          "base_uri": "https://localhost:8080/"
        },
        "id": "P8-vSwWRedpa",
        "outputId": "3c69a8b6-a257-4a8f-a7ac-a2c7650ad965"
      },
      "execution_count": 107,
      "outputs": [
        {
          "output_type": "stream",
          "name": "stdout",
          "text": [
            "Epoch 1/25\n",
            "\u001b[1m231/231\u001b[0m \u001b[32m━━━━━━━━━━━━━━━━━━━━\u001b[0m\u001b[37m\u001b[0m \u001b[1m0s\u001b[0m 238ms/step - loss: 2094.1738\n",
            "Epoch 1: val_loss improved from inf to 278.85864, saving model to ./tmp/vae_model.keras\n",
            "\u001b[1m231/231\u001b[0m \u001b[32m━━━━━━━━━━━━━━━━━━━━\u001b[0m\u001b[37m\u001b[0m \u001b[1m79s\u001b[0m 298ms/step - loss: 2088.0811 - val_loss: 278.8586 - learning_rate: 0.0010\n",
            "Epoch 2/25\n",
            "\u001b[1m231/231\u001b[0m \u001b[32m━━━━━━━━━━━━━━━━━━━━\u001b[0m\u001b[37m\u001b[0m \u001b[1m0s\u001b[0m 237ms/step - loss: 271.2531\n",
            "Epoch 2: val_loss improved from 278.85864 to 264.50510, saving model to ./tmp/vae_model.keras\n",
            "\u001b[1m231/231\u001b[0m \u001b[32m━━━━━━━━━━━━━━━━━━━━\u001b[0m\u001b[37m\u001b[0m \u001b[1m68s\u001b[0m 253ms/step - loss: 271.2358 - val_loss: 264.5051 - learning_rate: 0.0010\n",
            "Epoch 3/25\n",
            "\u001b[1m231/231\u001b[0m \u001b[32m━━━━━━━━━━━━━━━━━━━━\u001b[0m\u001b[37m\u001b[0m \u001b[1m0s\u001b[0m 235ms/step - loss: 257.6168\n",
            "Epoch 3: val_loss improved from 264.50510 to 247.36975, saving model to ./tmp/vae_model.keras\n",
            "\u001b[1m231/231\u001b[0m \u001b[32m━━━━━━━━━━━━━━━━━━━━\u001b[0m\u001b[37m\u001b[0m \u001b[1m58s\u001b[0m 253ms/step - loss: 257.6025 - val_loss: 247.3698 - learning_rate: 0.0010\n",
            "Epoch 4/25\n",
            "\u001b[1m231/231\u001b[0m \u001b[32m━━━━━━━━━━━━━━━━━━━━\u001b[0m\u001b[37m\u001b[0m \u001b[1m0s\u001b[0m 232ms/step - loss: 242.0823\n",
            "Epoch 4: val_loss improved from 247.36975 to 235.29276, saving model to ./tmp/vae_model.keras\n",
            "\u001b[1m231/231\u001b[0m \u001b[32m━━━━━━━━━━━━━━━━━━━━\u001b[0m\u001b[37m\u001b[0m \u001b[1m58s\u001b[0m 251ms/step - loss: 242.0656 - val_loss: 235.2928 - learning_rate: 0.0010\n",
            "Epoch 5/25\n",
            "\u001b[1m231/231\u001b[0m \u001b[32m━━━━━━━━━━━━━━━━━━━━\u001b[0m\u001b[37m\u001b[0m \u001b[1m0s\u001b[0m 223ms/step - loss: 229.6605\n",
            "Epoch 5: val_loss improved from 235.29276 to 226.67979, saving model to ./tmp/vae_model.keras\n",
            "\u001b[1m231/231\u001b[0m \u001b[32m━━━━━━━━━━━━━━━━━━━━\u001b[0m\u001b[37m\u001b[0m \u001b[1m56s\u001b[0m 242ms/step - loss: 229.6492 - val_loss: 226.6798 - learning_rate: 0.0010\n",
            "Epoch 6/25\n",
            "\u001b[1m231/231\u001b[0m \u001b[32m━━━━━━━━━━━━━━━━━━━━\u001b[0m\u001b[37m\u001b[0m \u001b[1m0s\u001b[0m 223ms/step - loss: 221.0420\n",
            "Epoch 6: val_loss improved from 226.67979 to 219.39705, saving model to ./tmp/vae_model.keras\n",
            "\u001b[1m231/231\u001b[0m \u001b[32m━━━━━━━━━━━━━━━━━━━━\u001b[0m\u001b[37m\u001b[0m \u001b[1m56s\u001b[0m 241ms/step - loss: 221.0423 - val_loss: 219.3970 - learning_rate: 0.0010\n",
            "Epoch 7/25\n",
            "\u001b[1m231/231\u001b[0m \u001b[32m━━━━━━━━━━━━━━━━━━━━\u001b[0m\u001b[37m\u001b[0m \u001b[1m0s\u001b[0m 222ms/step - loss: 212.4188\n",
            "Epoch 7: val_loss improved from 219.39705 to 212.15637, saving model to ./tmp/vae_model.keras\n",
            "\u001b[1m231/231\u001b[0m \u001b[32m━━━━━━━━━━━━━━━━━━━━\u001b[0m\u001b[37m\u001b[0m \u001b[1m56s\u001b[0m 241ms/step - loss: 212.4144 - val_loss: 212.1564 - learning_rate: 0.0010\n",
            "Epoch 8/25\n",
            "\u001b[1m231/231\u001b[0m \u001b[32m━━━━━━━━━━━━━━━━━━━━\u001b[0m\u001b[37m\u001b[0m \u001b[1m0s\u001b[0m 222ms/step - loss: 206.0027\n",
            "Epoch 8: val_loss improved from 212.15637 to 206.99200, saving model to ./tmp/vae_model.keras\n",
            "\u001b[1m231/231\u001b[0m \u001b[32m━━━━━━━━━━━━━━━━━━━━\u001b[0m\u001b[37m\u001b[0m \u001b[1m55s\u001b[0m 240ms/step - loss: 206.0002 - val_loss: 206.9920 - learning_rate: 0.0010\n",
            "Epoch 9/25\n",
            "\u001b[1m231/231\u001b[0m \u001b[32m━━━━━━━━━━━━━━━━━━━━\u001b[0m\u001b[37m\u001b[0m \u001b[1m0s\u001b[0m 222ms/step - loss: 200.0556\n",
            "Epoch 9: val_loss improved from 206.99200 to 202.96571, saving model to ./tmp/vae_model.keras\n",
            "\u001b[1m231/231\u001b[0m \u001b[32m━━━━━━━━━━━━━━━━━━━━\u001b[0m\u001b[37m\u001b[0m \u001b[1m55s\u001b[0m 241ms/step - loss: 200.0575 - val_loss: 202.9657 - learning_rate: 0.0010\n",
            "Epoch 10/25\n",
            "\u001b[1m231/231\u001b[0m \u001b[32m━━━━━━━━━━━━━━━━━━━━\u001b[0m\u001b[37m\u001b[0m \u001b[1m0s\u001b[0m 222ms/step - loss: 197.2362\n",
            "Epoch 10: val_loss improved from 202.96571 to 199.82327, saving model to ./tmp/vae_model.keras\n",
            "\u001b[1m231/231\u001b[0m \u001b[32m━━━━━━━━━━━━━━━━━━━━\u001b[0m\u001b[37m\u001b[0m \u001b[1m55s\u001b[0m 240ms/step - loss: 197.2335 - val_loss: 199.8233 - learning_rate: 0.0010\n",
            "Epoch 11/25\n",
            "\u001b[1m231/231\u001b[0m \u001b[32m━━━━━━━━━━━━━━━━━━━━\u001b[0m\u001b[37m\u001b[0m \u001b[1m0s\u001b[0m 221ms/step - loss: 192.5787\n",
            "Epoch 11: val_loss improved from 199.82327 to 195.71503, saving model to ./tmp/vae_model.keras\n",
            "\u001b[1m231/231\u001b[0m \u001b[32m━━━━━━━━━━━━━━━━━━━━\u001b[0m\u001b[37m\u001b[0m \u001b[1m55s\u001b[0m 240ms/step - loss: 192.5786 - val_loss: 195.7150 - learning_rate: 0.0010\n",
            "Epoch 12/25\n",
            "\u001b[1m231/231\u001b[0m \u001b[32m━━━━━━━━━━━━━━━━━━━━\u001b[0m\u001b[37m\u001b[0m \u001b[1m0s\u001b[0m 221ms/step - loss: 189.9919\n",
            "Epoch 12: val_loss improved from 195.71503 to 192.33836, saving model to ./tmp/vae_model.keras\n",
            "\u001b[1m231/231\u001b[0m \u001b[32m━━━━━━━━━━━━━━━━━━━━\u001b[0m\u001b[37m\u001b[0m \u001b[1m55s\u001b[0m 240ms/step - loss: 189.9874 - val_loss: 192.3384 - learning_rate: 0.0010\n",
            "Epoch 13/25\n",
            "\u001b[1m231/231\u001b[0m \u001b[32m━━━━━━━━━━━━━━━━━━━━\u001b[0m\u001b[37m\u001b[0m \u001b[1m0s\u001b[0m 222ms/step - loss: 185.4734\n",
            "Epoch 13: val_loss improved from 192.33836 to 188.43607, saving model to ./tmp/vae_model.keras\n",
            "\u001b[1m231/231\u001b[0m \u001b[32m━━━━━━━━━━━━━━━━━━━━\u001b[0m\u001b[37m\u001b[0m \u001b[1m55s\u001b[0m 241ms/step - loss: 185.4700 - val_loss: 188.4361 - learning_rate: 0.0010\n",
            "Epoch 14/25\n",
            "\u001b[1m231/231\u001b[0m \u001b[32m━━━━━━━━━━━━━━━━━━━━\u001b[0m\u001b[37m\u001b[0m \u001b[1m0s\u001b[0m 222ms/step - loss: 182.3946\n",
            "Epoch 14: val_loss improved from 188.43607 to 185.33736, saving model to ./tmp/vae_model.keras\n",
            "\u001b[1m231/231\u001b[0m \u001b[32m━━━━━━━━━━━━━━━━━━━━\u001b[0m\u001b[37m\u001b[0m \u001b[1m56s\u001b[0m 241ms/step - loss: 182.3894 - val_loss: 185.3374 - learning_rate: 0.0010\n",
            "Epoch 15/25\n",
            "\u001b[1m231/231\u001b[0m \u001b[32m━━━━━━━━━━━━━━━━━━━━\u001b[0m\u001b[37m\u001b[0m \u001b[1m0s\u001b[0m 222ms/step - loss: 181.8955\n",
            "Epoch 15: val_loss improved from 185.33736 to 180.87822, saving model to ./tmp/vae_model.keras\n",
            "\u001b[1m231/231\u001b[0m \u001b[32m━━━━━━━━━━━━━━━━━━━━\u001b[0m\u001b[37m\u001b[0m \u001b[1m55s\u001b[0m 241ms/step - loss: 181.8869 - val_loss: 180.8782 - learning_rate: 0.0010\n",
            "Epoch 16/25\n",
            "\u001b[1m231/231\u001b[0m \u001b[32m━━━━━━━━━━━━━━━━━━━━\u001b[0m\u001b[37m\u001b[0m \u001b[1m0s\u001b[0m 222ms/step - loss: 173.5814\n",
            "Epoch 16: val_loss improved from 180.87822 to 176.47203, saving model to ./tmp/vae_model.keras\n",
            "\u001b[1m231/231\u001b[0m \u001b[32m━━━━━━━━━━━━━━━━━━━━\u001b[0m\u001b[37m\u001b[0m \u001b[1m56s\u001b[0m 241ms/step - loss: 173.5753 - val_loss: 176.4720 - learning_rate: 0.0010\n",
            "Epoch 17/25\n",
            "\u001b[1m231/231\u001b[0m \u001b[32m━━━━━━━━━━━━━━━━━━━━\u001b[0m\u001b[37m\u001b[0m \u001b[1m0s\u001b[0m 222ms/step - loss: 173.5742\n",
            "Epoch 17: val_loss improved from 176.47203 to 171.63637, saving model to ./tmp/vae_model.keras\n",
            "\u001b[1m231/231\u001b[0m \u001b[32m━━━━━━━━━━━━━━━━━━━━\u001b[0m\u001b[37m\u001b[0m \u001b[1m55s\u001b[0m 240ms/step - loss: 173.5528 - val_loss: 171.6364 - learning_rate: 0.0010\n",
            "Epoch 18/25\n",
            "\u001b[1m231/231\u001b[0m \u001b[32m━━━━━━━━━━━━━━━━━━━━\u001b[0m\u001b[37m\u001b[0m \u001b[1m0s\u001b[0m 222ms/step - loss: 162.7875\n",
            "Epoch 18: val_loss improved from 171.63637 to 166.06146, saving model to ./tmp/vae_model.keras\n",
            "\u001b[1m231/231\u001b[0m \u001b[32m━━━━━━━━━━━━━━━━━━━━\u001b[0m\u001b[37m\u001b[0m \u001b[1m55s\u001b[0m 240ms/step - loss: 162.7779 - val_loss: 166.0615 - learning_rate: 0.0010\n",
            "Epoch 19/25\n",
            "\u001b[1m231/231\u001b[0m \u001b[32m━━━━━━━━━━━━━━━━━━━━\u001b[0m\u001b[37m\u001b[0m \u001b[1m0s\u001b[0m 222ms/step - loss: 156.3355\n",
            "Epoch 19: val_loss improved from 166.06146 to 161.44121, saving model to ./tmp/vae_model.keras\n",
            "\u001b[1m231/231\u001b[0m \u001b[32m━━━━━━━━━━━━━━━━━━━━\u001b[0m\u001b[37m\u001b[0m \u001b[1m55s\u001b[0m 241ms/step - loss: 156.3285 - val_loss: 161.4412 - learning_rate: 0.0010\n",
            "Epoch 20/25\n",
            "\u001b[1m231/231\u001b[0m \u001b[32m━━━━━━━━━━━━━━━━━━━━\u001b[0m\u001b[37m\u001b[0m \u001b[1m0s\u001b[0m 223ms/step - loss: 158.5962\n",
            "Epoch 20: val_loss did not improve from 161.44121\n",
            "\u001b[1m231/231\u001b[0m \u001b[32m━━━━━━━━━━━━━━━━━━━━\u001b[0m\u001b[37m\u001b[0m \u001b[1m53s\u001b[0m 230ms/step - loss: 158.5981 - val_loss: 163.1339 - learning_rate: 0.0010\n",
            "Epoch 21/25\n",
            "\u001b[1m231/231\u001b[0m \u001b[32m━━━━━━━━━━━━━━━━━━━━\u001b[0m\u001b[37m\u001b[0m \u001b[1m0s\u001b[0m 231ms/step - loss: 150.6841\n",
            "Epoch 21: val_loss improved from 161.44121 to 156.47302, saving model to ./tmp/vae_model.keras\n",
            "\u001b[1m231/231\u001b[0m \u001b[32m━━━━━━━━━━━━━━━━━━━━\u001b[0m\u001b[37m\u001b[0m \u001b[1m57s\u001b[0m 249ms/step - loss: 150.6804 - val_loss: 156.4730 - learning_rate: 0.0010\n",
            "Epoch 22/25\n",
            "\u001b[1m231/231\u001b[0m \u001b[32m━━━━━━━━━━━━━━━━━━━━\u001b[0m\u001b[37m\u001b[0m \u001b[1m0s\u001b[0m 222ms/step - loss: 142.6393\n",
            "Epoch 22: val_loss improved from 156.47302 to 152.23195, saving model to ./tmp/vae_model.keras\n",
            "\u001b[1m231/231\u001b[0m \u001b[32m━━━━━━━━━━━━━━━━━━━━\u001b[0m\u001b[37m\u001b[0m \u001b[1m56s\u001b[0m 241ms/step - loss: 142.6341 - val_loss: 152.2319 - learning_rate: 0.0010\n",
            "Epoch 23/25\n",
            "\u001b[1m231/231\u001b[0m \u001b[32m━━━━━━━━━━━━━━━━━━━━\u001b[0m\u001b[37m\u001b[0m \u001b[1m0s\u001b[0m 222ms/step - loss: 138.9336\n",
            "Epoch 23: val_loss improved from 152.23195 to 148.99554, saving model to ./tmp/vae_model.keras\n",
            "\u001b[1m231/231\u001b[0m \u001b[32m━━━━━━━━━━━━━━━━━━━━\u001b[0m\u001b[37m\u001b[0m \u001b[1m56s\u001b[0m 241ms/step - loss: 138.9355 - val_loss: 148.9955 - learning_rate: 0.0010\n",
            "Epoch 24/25\n",
            "\u001b[1m231/231\u001b[0m \u001b[32m━━━━━━━━━━━━━━━━━━━━\u001b[0m\u001b[37m\u001b[0m \u001b[1m0s\u001b[0m 222ms/step - loss: 131.1710\n",
            "Epoch 24: val_loss improved from 148.99554 to 145.34427, saving model to ./tmp/vae_model.keras\n",
            "\u001b[1m231/231\u001b[0m \u001b[32m━━━━━━━━━━━━━━━━━━━━\u001b[0m\u001b[37m\u001b[0m \u001b[1m55s\u001b[0m 240ms/step - loss: 131.1704 - val_loss: 145.3443 - learning_rate: 0.0010\n",
            "Epoch 25/25\n",
            "\u001b[1m231/231\u001b[0m \u001b[32m━━━━━━━━━━━━━━━━━━━━\u001b[0m\u001b[37m\u001b[0m \u001b[1m0s\u001b[0m 222ms/step - loss: 131.9634\n",
            "Epoch 25: val_loss improved from 145.34427 to 144.73859, saving model to ./tmp/vae_model.keras\n",
            "\u001b[1m231/231\u001b[0m \u001b[32m━━━━━━━━━━━━━━━━━━━━\u001b[0m\u001b[37m\u001b[0m \u001b[1m55s\u001b[0m 241ms/step - loss: 131.9679 - val_loss: 144.7386 - learning_rate: 0.0010\n",
            "Training losses over epochs: [680.6378784179688, 267.260498046875, 254.31259155273438, 238.20223999023438, 227.03878784179688, 221.10421752929688, 211.38882446289062, 205.40997314453125, 200.48577880859375, 196.5908966064453, 192.5484619140625, 188.93687438964844, 184.6833953857422, 181.1964874267578, 179.8857421875, 172.14874267578125, 168.61865234375, 160.55474853515625, 154.7012176513672, 159.03555297851562, 149.8240509033203, 141.44876098632812, 139.3856201171875, 131.0312957763672, 132.99423217773438]\n",
            "Validation losses over epochs: [278.858642578125, 264.5050964355469, 247.3697509765625, 235.29275512695312, 226.67979431152344, 219.3970489501953, 212.1563720703125, 206.99200439453125, 202.96571350097656, 199.82327270507812, 195.71502685546875, 192.33836364746094, 188.43606567382812, 185.3373565673828, 180.8782196044922, 176.47203063964844, 171.63636779785156, 166.06146240234375, 161.4412078857422, 163.1338653564453, 156.4730224609375, 152.23194885253906, 148.99554443359375, 145.34426879882812, 144.73858642578125]\n"
          ]
        }
      ]
    },
    {
      "cell_type": "code",
      "source": [
        "import matplotlib.pyplot as plt\n",
        "\n",
        "\n",
        "plt.figure(figsize=(8,5))\n",
        "plt.plot(history.losses, label='Training Loss')\n",
        "plt.plot(history.val_losses, label='Validation Loss')\n",
        "plt.xlabel('Epoch')\n",
        "plt.ylabel('Loss')\n",
        "plt.title('Training vs Validation Loss')\n",
        "plt.legend()\n",
        "plt.grid(True)\n",
        "plt.show()"
      ],
      "metadata": {
        "colab": {
          "base_uri": "https://localhost:8080/",
          "height": 487
        },
        "id": "nC5CN8GgophM",
        "outputId": "6539f15d-f848-4e60-dc57-a99d444f7fa3"
      },
      "execution_count": 108,
      "outputs": [
        {
          "output_type": "display_data",
          "data": {
            "text/plain": [
              "<Figure size 800x500 with 1 Axes>"
            ],
            "image/png": "[encoded data removed]"
          },
          "metadata": {}
        }
      ]
    },
    {
      "cell_type": "markdown",
      "source": [
        "### Evaluation"
      ],
      "metadata": {
        "id": "hXe9Kie8pTYu"
      }
    },
    {
      "cell_type": "code",
      "source": [
        "import numpy as np\n",
        "import math\n",
        "\n",
        "# ---------- Predict on Test Set ----------\n",
        "# Convert x_test (sparse) to dense and predict with VAE\n",
        "x_test_matrix = pickle.load(open(\"test_data.file\", \"rb\"))\n",
        "x_test_dense = np.asarray(x_test_matrix.todense())\n",
        "x_test_reconstructed = vae.predict(x_test_dense)\n",
        "\n",
        "print(\"Test data loaded. Shape:\", x_test_dense.shape)"
      ],
      "metadata": {
        "colab": {
          "base_uri": "https://localhost:8080/"
        },
        "id": "QcGuDmUJpU2I",
        "outputId": "9788129d-6a01-431a-97c2-894f9806db2f"
      },
      "execution_count": 109,
      "outputs": [
        {
          "output_type": "stream",
          "name": "stdout",
          "text": [
            "\u001b[1m313/313\u001b[0m \u001b[32m━━━━━━━━━━━━━━━━━━━━\u001b[0m\u001b[37m\u001b[0m \u001b[1m3s\u001b[0m 7ms/step\n",
            "Test data loaded. Shape: (10000, 26744)\n"
          ]
        }
      ]
    },
    {
      "cell_type": "code",
      "source": [
        "def recallatk(x_test, x_test_reconstructed, k):\n",
        "    recall_values = []\n",
        "    for i in range(len(x_test)):\n",
        "        true_items = [idx for idx, val in enumerate(x_test[i].tolist()) if val == 1.0]\n",
        "        if len(true_items) == 0:\n",
        "            continue  # Skip users with no positive interactions\n",
        "\n",
        "        predicted_scores = x_test_reconstructed[i].tolist()\n",
        "        top_k_predicted = sorted(range(len(predicted_scores)), key=lambda x: predicted_scores[x], reverse=True)[:k]\n",
        "\n",
        "        hits = len(set(top_k_predicted) & set(true_items))\n",
        "        recall = hits / min(k, len(true_items))\n",
        "        recall_values.append(recall)\n",
        "\n",
        "    return np.mean(recall_values)\n",
        "\n",
        "def ndcgatk(x_test, x_test_reconstructed, k):\n",
        "    ndcg_values = []\n",
        "    for i in range(len(x_test)):\n",
        "        true_items = [idx for idx, val in enumerate(x_test[i].tolist()) if val == 1.0]\n",
        "        if len(true_items) == 0:\n",
        "            continue  # Skip users with no positive interactions\n",
        "\n",
        "        predicted_scores = x_test_reconstructed[i].tolist()\n",
        "        top_k_predicted = sorted(range(len(predicted_scores)), key=lambda x: predicted_scores[x], reverse=True)[:k]\n",
        "\n",
        "        dcg = 0.0\n",
        "        for rank, idx in enumerate(top_k_predicted):\n",
        "            if idx in true_items:\n",
        "                dcg += 1 / math.log2(rank + 2)\n",
        "\n",
        "        # Ideal DCG\n",
        "        idcg = sum(1 / math.log2(rank + 2) for rank in range(min(len(true_items), k)))\n",
        "        ndcg = dcg / idcg if idcg > 0 else 0\n",
        "        ndcg_values.append(ndcg)\n",
        "\n",
        "    return np.mean(ndcg_values)"
      ],
      "metadata": {
        "id": "4WtUqgNqpzzu"
      },
      "execution_count": 110,
      "outputs": []
    },
    {
      "cell_type": "code",
      "source": [
        "print(\"Recall@20:\", recallatk(x_test_dense, x_test_reconstructed, 20))\n",
        "print(\"Recall@50:\", recallatk(x_test_dense, x_test_reconstructed, 50))\n",
        "print(\"NDCG@100:\", ndcgatk(x_test_dense, x_test_reconstructed, 100))"
      ],
      "metadata": {
        "colab": {
          "base_uri": "https://localhost:8080/"
        },
        "id": "zzCss2Eyp8_E",
        "outputId": "70069505-3b67-4eae-d464-295e54e995be"
      },
      "execution_count": 111,
      "outputs": [
        {
          "output_type": "stream",
          "name": "stdout",
          "text": [
            "Recall@20: 0.8858893091737405\n",
            "Recall@50: 0.8386962003117945\n",
            "NDCG@100: 0.8576853274328555\n"
          ]
        }
      ]
    },
    {
      "cell_type": "markdown",
      "source": [
        "### Recommendations"
      ],
      "metadata": {
        "id": "Z1MAoD-OCeWH"
      }
    },
    {
      "cell_type": "code",
      "source": [
        "movies_df = pd.read_csv(movies_path)\n",
        "\n",
        "\n",
        "movie_titles = dict(zip(movies_df['movieId'], movies_df['title']))\n",
        "\n",
        "unique_movie_ids = sorted(movies_df['movieId'].unique())\n",
        "movie_id_map = {index: movieId for index, movieId in enumerate(unique_movie_ids)}\n"
      ],
      "metadata": {
        "id": "u9AXG3S4Fh-n"
      },
      "execution_count": 118,
      "outputs": []
    },
    {
      "cell_type": "code",
      "source": [
        "num_users = x_test_dense.shape[0]\n",
        "random_user_indices = random.sample(range(num_users), 10)\n",
        "\n",
        "\n",
        "for user_idx in random_user_indices:\n",
        "    user_interactions = x_test_dense[user_idx]  # Actual interactions\n",
        "    user_predictions = x_test_reconstructed[user_idx]\n",
        "\n",
        "    # Mask already interacted items\n",
        "    user_predictions[user_interactions == 1] = -np.inf\n",
        "\n",
        "    # Top-10 recommendations\n",
        "    top_10_items = np.argsort(user_predictions)[-10:][::-1]  # Descending order\n",
        "\n",
        "    movie_ids = [movie_id_map[i] for i in top_10_items]\n",
        "    titles = [movie_titles[mid] for mid in movie_ids]\n",
        "\n",
        "    print(f\"User {user_idx} Top-10 Movie Titles: {titles}\")"
      ],
      "metadata": {
        "colab": {
          "base_uri": "https://localhost:8080/"
        },
        "id": "zn5bhViUCg5x",
        "outputId": "5af92d6f-55fb-4ae9-b64a-918f66b701c2"
      },
      "execution_count": 119,
      "outputs": [
        {
          "output_type": "stream",
          "name": "stdout",
          "text": [
            "User 7226 Top-10 Movie Titles: ['Naked in New York (1994)', 'Panther (1995)', 'Quick and the Dead, The (1995)', 'Signs & Wonders (2001)', 'Queen Margot (Reine Margot, La) (1994)', 'Arrival, The (1996)', 'Ace Ventura: Pet Detective (1994)', 'Crow, The (1994)', 'Twelve Monkeys (a.k.a. 12 Monkeys) (1995)', 'Cry, the Beloved Country (1995)']\n",
            "User 4987 Top-10 Movie Titles: ['Gangster No. 1 (2000)', 'Anna and the King of Siam (1946)', 'Dangerous Lives of Altar Boys, The (2002)', \"Preacher's Wife, The (1996)\", 'Lady Jane (1986)', 'Getting It Right (1989)', 'Cast a Giant Shadow (1966)', 'Married to the Mob (1988)', 'They (2002)', 'Last Tango in Paris (Ultimo tango a Parigi) (1972)']\n",
            "User 2680 Top-10 Movie Titles: ['True Lies (1994)', 'Sexual Life of the Belgians, The (Vie sexuelle des Belges 1950-1978, La) (1994)', 'Fall Time (1995)', 'Breakdown (1997)', 'Firestorm (1998)', 'River Wild, The (1994)', 'Colonel Chabert, Le (1994)', 'Above the Rim (1994)', '8 Seconds (1994)', 'Quest, The (1996)']\n",
            "User 7947 Top-10 Movie Titles: ['Ready to Wear (Pret-A-Porter) (1994)', 'Friday the 13th Part IV: The Final Chapter (1984)', 'Persuasion (1995)', 'Diva (1981)', 'Mortal Kombat (1995)', 'Now and Then (1995)', 'For the Moment (1994)', 'Little Indian, Big City (Un indien dans la ville) (1994)', 'Star Trek IV: The Voyage Home (1986)', '101 Dalmatians (1996)']\n",
            "User 8151 Top-10 Movie Titles: ['Serial Mom (1994)', 'Substance of Fire, The (1996)', 'L.A. Confidential (1997)', 'Showgirls (1995)', 'Kaspar Hauser (1993)', 'Cure, The (1995)', \"Muriel's Wedding (1994)\", 'Condorman (1981)', 'Mr. Jones (1993)', 'Dadetown (1995)']\n",
            "User 1442 Top-10 Movie Titles: ['Far From Home: The Adventures of Yellow Dog (1995)', 'Once Upon a Time... When We Were Colored (1995)', 'Sexual Life of the Belgians, The (Vie sexuelle des Belges 1950-1978, La) (1994)', 'Dracula: Dead and Loving It (1995)', 'Air Up There, The (1994)', 'S.F.W. (1994)', 'Time Regained (Temps retrouvé, Le) (1999)', 'Murder, My Sweet (1944)', 'Boxing Helena (1993)', 'Backbeat (1993)']\n",
            "User 8228 Top-10 Movie Titles: ['Peter Pan (1953)', \"Men Don't Leave (1990)\", 'Love Affair (1994)', 'Just Cause (1995)', 'Pope of Greenwich Village, The (1984)', 'Class (1983)', 'Seven Beauties (Pasqualino Settebellezze) (1976)', 'Twelve Monkeys (a.k.a. 12 Monkeys) (1995)', 'Associate, The (1996)', 'Loaded (1994)']\n",
            "User 7156 Top-10 Movie Titles: ['Hell Night (1981)', '39 Steps, The (1935)', 'Body Parts (1991)', 'I Shot Andy Warhol (1996)', 'Red Rock West (1992)', 'Enchanted April (1992)', 'Stealing Beauty (1996)', 'Mumford (1999)', 'That Thing You Do! (1996)', 'Love in the Afternoon (1957)']\n",
            "User 9176 Top-10 Movie Titles: ['Attack of the Killer Tomatoes! (1978)', 'Rocky (1976)', 'Dazed and Confused (1993)', 'Father of the Bride Part II (1995)', 'Powder (1995)', 'Addams Family Values (1993)', \"Preacher's Wife, The (1996)\", 'Blue Sky (1994)', 'Cool, Dry Place, A (1998)', 'Mighty Ducks, The (1992)']\n",
            "User 1901 Top-10 Movie Titles: [\"Widows' Peak (1994)\", 'Dadetown (1995)', 'Smoke (1995)', 'Diva (1981)', 'Carrington (1995)', 'Métisse (Café au Lait) (1993)', 'Air Bud (1997)', 'Golden Earrings (1947)', 'Tickle in the Heart, A (1996)', 'Usual Suspects, The (1995)']\n"
          ]
        }
      ]
    }
  ]
}